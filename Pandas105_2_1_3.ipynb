{
 "cells": [
  {
   "cell_type": "code",
   "execution_count": 1,
   "metadata": {},
   "outputs": [],
   "source": [
    "import pandas as pd\n",
    "import numpy as np\n",
    "import matplotlib.pyplot as plt\n",
    "from io import StringIO\n",
    "import os"
   ]
  },
  {
   "cell_type": "code",
   "execution_count": 2,
   "metadata": {},
   "outputs": [],
   "source": [
    "url = 'https://www.fdic.gov/bank/individual/failed/banklist.html'"
   ]
  },
  {
   "cell_type": "code",
   "execution_count": 3,
   "metadata": {},
   "outputs": [
    {
     "data": {
      "text/plain": [
       "[                             Bank Name           City  ST   CERT  \\\n",
       " 0                 The First State Bank  Barboursville  WV  14361   \n",
       " 1                   Ericson State Bank        Ericson  NE  18265   \n",
       " 2     City National Bank of New Jersey         Newark  NJ  21111   \n",
       " 3                        Resolute Bank         Maumee  OH  58317   \n",
       " 4                Louisa Community Bank         Louisa  KY  58112   \n",
       " ..                                 ...            ...  ..    ...   \n",
       " 556                 Superior Bank, FSB       Hinsdale  IL  32646   \n",
       " 557                Malta National Bank          Malta  OH   6629   \n",
       " 558    First Alliance Bank & Trust Co.     Manchester  NH  34264   \n",
       " 559  National State Bank of Metropolis     Metropolis  IL   3815   \n",
       " 560                   Bank of Honolulu       Honolulu  HI  21029   \n",
       " \n",
       "                    Acquiring Institution       Closing Date  \n",
       " 0                         MVB Bank, Inc.      April 3, 2020  \n",
       " 1             Farmers and Merchants Bank  February 14, 2020  \n",
       " 2                        Industrial Bank   November 1, 2019  \n",
       " 3                     Buckeye State Bank   October 25, 2019  \n",
       " 4      Kentucky Farmers Bank Corporation   October 25, 2019  \n",
       " ..                                   ...                ...  \n",
       " 556                Superior Federal, FSB      July 27, 2001  \n",
       " 557                    North Valley Bank        May 3, 2001  \n",
       " 558  Southern New Hampshire Bank & Trust   February 2, 2001  \n",
       " 559              Banterra Bank of Marion  December 14, 2000  \n",
       " 560                   Bank of the Orient   October 13, 2000  \n",
       " \n",
       " [561 rows x 6 columns]]"
      ]
     },
     "execution_count": 3,
     "metadata": {},
     "output_type": "execute_result"
    }
   ],
   "source": [
    "dfs = pd.read_html(url)\n",
    "dfs"
   ]
  },
  {
   "cell_type": "code",
   "execution_count": 4,
   "metadata": {},
   "outputs": [],
   "source": [
    "# with open(file_path, 'r') as f:\n",
    "#     dfs = pd.read_html(f.read())\n",
    "# dfs"
   ]
  },
  {
   "cell_type": "code",
   "execution_count": 5,
   "metadata": {},
   "outputs": [],
   "source": [
    "# with open(file_path, 'r') as f:\n",
    "#     sio = StringIO(f.read())\n",
    "# dfs = pd.read_html(sio)\n",
    "# dfs\n",
    "\n",
    "\n",
    "# посмотреть страницы 277 - 278"
   ]
  },
  {
   "cell_type": "code",
   "execution_count": 6,
   "metadata": {},
   "outputs": [
    {
     "data": {
      "text/plain": [
       "[                             Bank Name           City  ST   CERT  \\\n",
       " 0                 The First State Bank  Barboursville  WV  14361   \n",
       " 1                   Ericson State Bank        Ericson  NE  18265   \n",
       " 2     City National Bank of New Jersey         Newark  NJ  21111   \n",
       " 3                        Resolute Bank         Maumee  OH  58317   \n",
       " 4                Louisa Community Bank         Louisa  KY  58112   \n",
       " ..                                 ...            ...  ..    ...   \n",
       " 556                 Superior Bank, FSB       Hinsdale  IL  32646   \n",
       " 557                Malta National Bank          Malta  OH   6629   \n",
       " 558    First Alliance Bank & Trust Co.     Manchester  NH  34264   \n",
       " 559  National State Bank of Metropolis     Metropolis  IL   3815   \n",
       " 560                   Bank of Honolulu       Honolulu  HI  21029   \n",
       " \n",
       "                    Acquiring Institution       Closing Date  \n",
       " 0                         MVB Bank, Inc.      April 3, 2020  \n",
       " 1             Farmers and Merchants Bank  February 14, 2020  \n",
       " 2                        Industrial Bank   November 1, 2019  \n",
       " 3                     Buckeye State Bank   October 25, 2019  \n",
       " 4      Kentucky Farmers Bank Corporation   October 25, 2019  \n",
       " ..                                   ...                ...  \n",
       " 556                Superior Federal, FSB      July 27, 2001  \n",
       " 557                    North Valley Bank        May 3, 2001  \n",
       " 558  Southern New Hampshire Bank & Trust   February 2, 2001  \n",
       " 559              Banterra Bank of Marion  December 14, 2000  \n",
       " 560                   Bank of the Orient   October 13, 2000  \n",
       " \n",
       " [561 rows x 6 columns]]"
      ]
     },
     "execution_count": 6,
     "metadata": {},
     "output_type": "execute_result"
    }
   ],
   "source": [
    "match = 'Metcalf Bank'\n",
    "df_list = pd.read_html(url, match=match)\n",
    "df_list"
   ]
  },
  {
   "cell_type": "code",
   "execution_count": 7,
   "metadata": {},
   "outputs": [
    {
     "data": {
      "text/plain": [
       "[                             Bank Name           City  ST   CERT  \\\n",
       " 0                 The First State Bank  Barboursville  WV  14361   \n",
       " 1                   Ericson State Bank        Ericson  NE  18265   \n",
       " 2     City National Bank of New Jersey         Newark  NJ  21111   \n",
       " 3                        Resolute Bank         Maumee  OH  58317   \n",
       " 4                Louisa Community Bank         Louisa  KY  58112   \n",
       " ..                                 ...            ...  ..    ...   \n",
       " 556                 Superior Bank, FSB       Hinsdale  IL  32646   \n",
       " 557                Malta National Bank          Malta  OH   6629   \n",
       " 558    First Alliance Bank & Trust Co.     Manchester  NH  34264   \n",
       " 559  National State Bank of Metropolis     Metropolis  IL   3815   \n",
       " 560                   Bank of Honolulu       Honolulu  HI  21029   \n",
       " \n",
       "                    Acquiring Institution       Closing Date  \n",
       " 0                         MVB Bank, Inc.      April 3, 2020  \n",
       " 1             Farmers and Merchants Bank  February 14, 2020  \n",
       " 2                        Industrial Bank   November 1, 2019  \n",
       " 3                     Buckeye State Bank   October 25, 2019  \n",
       " 4      Kentucky Farmers Bank Corporation   October 25, 2019  \n",
       " ..                                   ...                ...  \n",
       " 556                Superior Federal, FSB      July 27, 2001  \n",
       " 557                    North Valley Bank        May 3, 2001  \n",
       " 558  Southern New Hampshire Bank & Trust   February 2, 2001  \n",
       " 559              Banterra Bank of Marion  December 14, 2000  \n",
       " 560                   Bank of the Orient   October 13, 2000  \n",
       " \n",
       " [561 rows x 6 columns]]"
      ]
     },
     "execution_count": 7,
     "metadata": {},
     "output_type": "execute_result"
    }
   ],
   "source": [
    "dfs = pd.read_html(url, header=0)\n",
    "dfs"
   ]
  },
  {
   "cell_type": "code",
   "execution_count": 8,
   "metadata": {},
   "outputs": [
    {
     "data": {
      "text/plain": [
       "[                                            City  ST   CERT  \\\n",
       " Bank Name                                                     \n",
       " The First State Bank               Barboursville  WV  14361   \n",
       " Ericson State Bank                       Ericson  NE  18265   \n",
       " City National Bank of New Jersey          Newark  NJ  21111   \n",
       " Resolute Bank                             Maumee  OH  58317   \n",
       " Louisa Community Bank                     Louisa  KY  58112   \n",
       " ...                                          ...  ..    ...   \n",
       " Superior Bank, FSB                      Hinsdale  IL  32646   \n",
       " Malta National Bank                        Malta  OH   6629   \n",
       " First Alliance Bank & Trust Co.       Manchester  NH  34264   \n",
       " National State Bank of Metropolis     Metropolis  IL   3815   \n",
       " Bank of Honolulu                        Honolulu  HI  21029   \n",
       " \n",
       "                                                  Acquiring Institution  \\\n",
       " Bank Name                                                                \n",
       " The First State Bank                                    MVB Bank, Inc.   \n",
       " Ericson State Bank                          Farmers and Merchants Bank   \n",
       " City National Bank of New Jersey                       Industrial Bank   \n",
       " Resolute Bank                                       Buckeye State Bank   \n",
       " Louisa Community Bank                Kentucky Farmers Bank Corporation   \n",
       " ...                                                                ...   \n",
       " Superior Bank, FSB                               Superior Federal, FSB   \n",
       " Malta National Bank                                  North Valley Bank   \n",
       " First Alliance Bank & Trust Co.    Southern New Hampshire Bank & Trust   \n",
       " National State Bank of Metropolis              Banterra Bank of Marion   \n",
       " Bank of Honolulu                                    Bank of the Orient   \n",
       " \n",
       "                                         Closing Date  \n",
       " Bank Name                                             \n",
       " The First State Bank                   April 3, 2020  \n",
       " Ericson State Bank                 February 14, 2020  \n",
       " City National Bank of New Jersey    November 1, 2019  \n",
       " Resolute Bank                       October 25, 2019  \n",
       " Louisa Community Bank               October 25, 2019  \n",
       " ...                                              ...  \n",
       " Superior Bank, FSB                     July 27, 2001  \n",
       " Malta National Bank                      May 3, 2001  \n",
       " First Alliance Bank & Trust Co.     February 2, 2001  \n",
       " National State Bank of Metropolis  December 14, 2000  \n",
       " Bank of Honolulu                    October 13, 2000  \n",
       " \n",
       " [561 rows x 5 columns]]"
      ]
     },
     "execution_count": 8,
     "metadata": {},
     "output_type": "execute_result"
    }
   ],
   "source": [
    "dfs = pd.read_html(url, index_col=0)\n",
    "dfs"
   ]
  },
  {
   "cell_type": "code",
   "execution_count": 9,
   "metadata": {},
   "outputs": [
    {
     "data": {
      "text/plain": [
       "[                             Bank Name           City  ST   CERT  \\\n",
       " 0                 The First State Bank  Barboursville  WV  14361   \n",
       " 1                   Ericson State Bank        Ericson  NE  18265   \n",
       " 2     City National Bank of New Jersey         Newark  NJ  21111   \n",
       " 3                        Resolute Bank         Maumee  OH  58317   \n",
       " 4                Louisa Community Bank         Louisa  KY  58112   \n",
       " ..                                 ...            ...  ..    ...   \n",
       " 556                 Superior Bank, FSB       Hinsdale  IL  32646   \n",
       " 557                Malta National Bank          Malta  OH   6629   \n",
       " 558    First Alliance Bank & Trust Co.     Manchester  NH  34264   \n",
       " 559  National State Bank of Metropolis     Metropolis  IL   3815   \n",
       " 560                   Bank of Honolulu       Honolulu  HI  21029   \n",
       " \n",
       "                    Acquiring Institution       Closing Date  \n",
       " 0                         MVB Bank, Inc.      April 3, 2020  \n",
       " 1             Farmers and Merchants Bank  February 14, 2020  \n",
       " 2                        Industrial Bank   November 1, 2019  \n",
       " 3                     Buckeye State Bank   October 25, 2019  \n",
       " 4      Kentucky Farmers Bank Corporation   October 25, 2019  \n",
       " ..                                   ...                ...  \n",
       " 556                Superior Federal, FSB      July 27, 2001  \n",
       " 557                    North Valley Bank        May 3, 2001  \n",
       " 558  Southern New Hampshire Bank & Trust   February 2, 2001  \n",
       " 559              Banterra Bank of Marion  December 14, 2000  \n",
       " 560                   Bank of the Orient   October 13, 2000  \n",
       " \n",
       " [561 rows x 6 columns]]"
      ]
     },
     "execution_count": 9,
     "metadata": {},
     "output_type": "execute_result"
    }
   ],
   "source": [
    "dfs = pd.read_html(url, skiprows=0)\n",
    "dfs"
   ]
  },
  {
   "cell_type": "code",
   "execution_count": 10,
   "metadata": {},
   "outputs": [
    {
     "data": {
      "text/plain": [
       "[                      Ericson State Bank     Ericson  NE  18265  \\\n",
       " 0       City National Bank of New Jersey      Newark  NJ  21111   \n",
       " 1                          Resolute Bank      Maumee  OH  58317   \n",
       " 2                  Louisa Community Bank      Louisa  KY  58112   \n",
       " 3                   The Enloe State Bank      Cooper  TX  10716   \n",
       " 4    Washington Federal Bank for Savings     Chicago  IL  30570   \n",
       " ..                                   ...         ...  ..    ...   \n",
       " 554                   Superior Bank, FSB    Hinsdale  IL  32646   \n",
       " 555                  Malta National Bank       Malta  OH   6629   \n",
       " 556      First Alliance Bank & Trust Co.  Manchester  NH  34264   \n",
       " 557    National State Bank of Metropolis  Metropolis  IL   3815   \n",
       " 558                     Bank of Honolulu    Honolulu  HI  21029   \n",
       " \n",
       "               Farmers and Merchants Bank  February 14, 2020  \n",
       " 0                        Industrial Bank   November 1, 2019  \n",
       " 1                     Buckeye State Bank   October 25, 2019  \n",
       " 2      Kentucky Farmers Bank Corporation   October 25, 2019  \n",
       " 3                     Legend Bank, N. A.       May 31, 2019  \n",
       " 4                     Royal Savings Bank  December 15, 2017  \n",
       " ..                                   ...                ...  \n",
       " 554                Superior Federal, FSB      July 27, 2001  \n",
       " 555                    North Valley Bank        May 3, 2001  \n",
       " 556  Southern New Hampshire Bank & Trust   February 2, 2001  \n",
       " 557              Banterra Bank of Marion  December 14, 2000  \n",
       " 558                   Bank of the Orient   October 13, 2000  \n",
       " \n",
       " [559 rows x 6 columns]]"
      ]
     },
     "execution_count": 10,
     "metadata": {},
     "output_type": "execute_result"
    }
   ],
   "source": [
    "dfs = pd.read_html(url, skiprows=range(2))\n",
    "dfs"
   ]
  },
  {
   "cell_type": "code",
   "execution_count": 11,
   "metadata": {},
   "outputs": [],
   "source": [
    "# dfs1 = pd.read_html(url, attrs={'id': 'table'})\n",
    "# dfs2 = pd.read_html(url, attrs={'class': 'sortable'})\n",
    "# print(np.array_equal(dfs1[0], dfs2[0])) # Should be True"
   ]
  },
  {
   "cell_type": "code",
   "execution_count": 12,
   "metadata": {},
   "outputs": [
    {
     "data": {
      "text/plain": [
       "[                             Bank Name           City  ST   CERT  \\\n",
       " 0                 The First State Bank  Barboursville  WV  14361   \n",
       " 1                   Ericson State Bank        Ericson  NE  18265   \n",
       " 2     City National Bank of New Jersey         Newark  NJ  21111   \n",
       " 3                        Resolute Bank         Maumee  OH  58317   \n",
       " 4                Louisa Community Bank         Louisa  KY  58112   \n",
       " ..                                 ...            ...  ..    ...   \n",
       " 556                 Superior Bank, FSB       Hinsdale  IL  32646   \n",
       " 557                Malta National Bank          Malta  OH   6629   \n",
       " 558    First Alliance Bank & Trust Co.     Manchester  NH  34264   \n",
       " 559  National State Bank of Metropolis     Metropolis  IL   3815   \n",
       " 560                   Bank of Honolulu       Honolulu  HI  21029   \n",
       " \n",
       "                    Acquiring Institution       Closing Date  \n",
       " 0                         MVB Bank, Inc.      April 3, 2020  \n",
       " 1             Farmers and Merchants Bank  February 14, 2020  \n",
       " 2                        Industrial Bank   November 1, 2019  \n",
       " 3                     Buckeye State Bank   October 25, 2019  \n",
       " 4      Kentucky Farmers Bank Corporation   October 25, 2019  \n",
       " ..                                   ...                ...  \n",
       " 556                Superior Federal, FSB      July 27, 2001  \n",
       " 557                    North Valley Bank        May 3, 2001  \n",
       " 558  Southern New Hampshire Bank & Trust   February 2, 2001  \n",
       " 559              Banterra Bank of Marion  December 14, 2000  \n",
       " 560                   Bank of the Orient   October 13, 2000  \n",
       " \n",
       " [561 rows x 6 columns]]"
      ]
     },
     "execution_count": 12,
     "metadata": {},
     "output_type": "execute_result"
    }
   ],
   "source": [
    "dfs = pd.read_html(url, na_values=['No Acquirer'])\n",
    "dfs"
   ]
  },
  {
   "cell_type": "code",
   "execution_count": 13,
   "metadata": {},
   "outputs": [
    {
     "data": {
      "text/plain": [
       "[                             Bank Name           City  ST   CERT  \\\n",
       " 0                 The First State Bank  Barboursville  WV  14361   \n",
       " 1                   Ericson State Bank        Ericson  NE  18265   \n",
       " 2     City National Bank of New Jersey         Newark  NJ  21111   \n",
       " 3                        Resolute Bank         Maumee  OH  58317   \n",
       " 4                Louisa Community Bank         Louisa  KY  58112   \n",
       " ..                                 ...            ...  ..    ...   \n",
       " 556                 Superior Bank, FSB       Hinsdale  IL  32646   \n",
       " 557                Malta National Bank          Malta  OH   6629   \n",
       " 558    First Alliance Bank & Trust Co.     Manchester  NH  34264   \n",
       " 559  National State Bank of Metropolis     Metropolis  IL   3815   \n",
       " 560                   Bank of Honolulu       Honolulu  HI  21029   \n",
       " \n",
       "                    Acquiring Institution       Closing Date  \n",
       " 0                         MVB Bank, Inc.      April 3, 2020  \n",
       " 1             Farmers and Merchants Bank  February 14, 2020  \n",
       " 2                        Industrial Bank   November 1, 2019  \n",
       " 3                     Buckeye State Bank   October 25, 2019  \n",
       " 4      Kentucky Farmers Bank Corporation   October 25, 2019  \n",
       " ..                                   ...                ...  \n",
       " 556                Superior Federal, FSB      July 27, 2001  \n",
       " 557                    North Valley Bank        May 3, 2001  \n",
       " 558  Southern New Hampshire Bank & Trust   February 2, 2001  \n",
       " 559              Banterra Bank of Marion  December 14, 2000  \n",
       " 560                   Bank of the Orient   October 13, 2000  \n",
       " \n",
       " [561 rows x 6 columns]]"
      ]
     },
     "execution_count": 13,
     "metadata": {},
     "output_type": "execute_result"
    }
   ],
   "source": [
    "dfs = pd.read_html(url, keep_default_na=False)\n",
    "dfs"
   ]
  },
  {
   "cell_type": "code",
   "execution_count": 14,
   "metadata": {},
   "outputs": [],
   "source": [
    "# url_mcc = 'https://en.wikipedia.org/wiki/Mobile_country_code'\n",
    "# dfs = pd.read_html(url_mcc, match='Telekom Albania', header=0,\n",
    "#                    converters={'MNC': str})"
   ]
  },
  {
   "cell_type": "code",
   "execution_count": 15,
   "metadata": {},
   "outputs": [
    {
     "data": {
      "text/plain": [
       "[                                            City  ST   CERT  \\\n",
       " Bank Name                                                     \n",
       " The First State Bank               Barboursville  WV  14361   \n",
       " Ericson State Bank                       Ericson  NE  18265   \n",
       " City National Bank of New Jersey          Newark  NJ  21111   \n",
       " Resolute Bank                             Maumee  OH  58317   \n",
       " Louisa Community Bank                     Louisa  KY  58112   \n",
       " ...                                          ...  ..    ...   \n",
       " Superior Bank, FSB                      Hinsdale  IL  32646   \n",
       " Malta National Bank                        Malta  OH   6629   \n",
       " First Alliance Bank & Trust Co.       Manchester  NH  34264   \n",
       " National State Bank of Metropolis     Metropolis  IL   3815   \n",
       " Bank of Honolulu                        Honolulu  HI  21029   \n",
       " \n",
       "                                                  Acquiring Institution  \\\n",
       " Bank Name                                                                \n",
       " The First State Bank                                    MVB Bank, Inc.   \n",
       " Ericson State Bank                          Farmers and Merchants Bank   \n",
       " City National Bank of New Jersey                       Industrial Bank   \n",
       " Resolute Bank                                       Buckeye State Bank   \n",
       " Louisa Community Bank                Kentucky Farmers Bank Corporation   \n",
       " ...                                                                ...   \n",
       " Superior Bank, FSB                               Superior Federal, FSB   \n",
       " Malta National Bank                                  North Valley Bank   \n",
       " First Alliance Bank & Trust Co.    Southern New Hampshire Bank & Trust   \n",
       " National State Bank of Metropolis              Banterra Bank of Marion   \n",
       " Bank of Honolulu                                    Bank of the Orient   \n",
       " \n",
       "                                         Closing Date  \n",
       " Bank Name                                             \n",
       " The First State Bank                   April 3, 2020  \n",
       " Ericson State Bank                 February 14, 2020  \n",
       " City National Bank of New Jersey    November 1, 2019  \n",
       " Resolute Bank                       October 25, 2019  \n",
       " Louisa Community Bank               October 25, 2019  \n",
       " ...                                              ...  \n",
       " Superior Bank, FSB                     July 27, 2001  \n",
       " Malta National Bank                      May 3, 2001  \n",
       " First Alliance Bank & Trust Co.     February 2, 2001  \n",
       " National State Bank of Metropolis  December 14, 2000  \n",
       " Bank of Honolulu                    October 13, 2000  \n",
       " \n",
       " [561 rows x 5 columns]]"
      ]
     },
     "execution_count": 15,
     "metadata": {},
     "output_type": "execute_result"
    }
   ],
   "source": [
    "dfs = pd.read_html(url, match='Metcalf Bank', index_col=0)\n",
    "dfs"
   ]
  },
  {
   "cell_type": "code",
   "execution_count": 16,
   "metadata": {},
   "outputs": [
    {
     "data": {
      "text/plain": [
       "[          0         1\n",
       " 0 -1.727688 -0.310407\n",
       " 1  0.309991  1.301625]"
      ]
     },
     "execution_count": 16,
     "metadata": {},
     "output_type": "execute_result"
    }
   ],
   "source": [
    "df = pd.DataFrame(np.random.randn(2, 2))\n",
    "s = df.to_html(float_format='{0:.40g}'.format)\n",
    "dfin = pd.read_html(s, index_col=0)\n",
    "dfin"
   ]
  },
  {
   "cell_type": "code",
   "execution_count": 17,
   "metadata": {},
   "outputs": [
    {
     "data": {
      "text/plain": [
       "[                                            City  ST   CERT  \\\n",
       " Bank Name                                                     \n",
       " The First State Bank               Barboursville  WV  14361   \n",
       " Ericson State Bank                       Ericson  NE  18265   \n",
       " City National Bank of New Jersey          Newark  NJ  21111   \n",
       " Resolute Bank                             Maumee  OH  58317   \n",
       " Louisa Community Bank                     Louisa  KY  58112   \n",
       " ...                                          ...  ..    ...   \n",
       " Superior Bank, FSB                      Hinsdale  IL  32646   \n",
       " Malta National Bank                        Malta  OH   6629   \n",
       " First Alliance Bank & Trust Co.       Manchester  NH  34264   \n",
       " National State Bank of Metropolis     Metropolis  IL   3815   \n",
       " Bank of Honolulu                        Honolulu  HI  21029   \n",
       " \n",
       "                                                  Acquiring Institution  \\\n",
       " Bank Name                                                                \n",
       " The First State Bank                                    MVB Bank, Inc.   \n",
       " Ericson State Bank                          Farmers and Merchants Bank   \n",
       " City National Bank of New Jersey                       Industrial Bank   \n",
       " Resolute Bank                                       Buckeye State Bank   \n",
       " Louisa Community Bank                Kentucky Farmers Bank Corporation   \n",
       " ...                                                                ...   \n",
       " Superior Bank, FSB                               Superior Federal, FSB   \n",
       " Malta National Bank                                  North Valley Bank   \n",
       " First Alliance Bank & Trust Co.    Southern New Hampshire Bank & Trust   \n",
       " National State Bank of Metropolis              Banterra Bank of Marion   \n",
       " Bank of Honolulu                                    Bank of the Orient   \n",
       " \n",
       "                                         Closing Date  \n",
       " Bank Name                                             \n",
       " The First State Bank                   April 3, 2020  \n",
       " Ericson State Bank                 February 14, 2020  \n",
       " City National Bank of New Jersey    November 1, 2019  \n",
       " Resolute Bank                       October 25, 2019  \n",
       " Louisa Community Bank               October 25, 2019  \n",
       " ...                                              ...  \n",
       " Superior Bank, FSB                     July 27, 2001  \n",
       " Malta National Bank                      May 3, 2001  \n",
       " First Alliance Bank & Trust Co.     February 2, 2001  \n",
       " National State Bank of Metropolis  December 14, 2000  \n",
       " Bank of Honolulu                    October 13, 2000  \n",
       " \n",
       " [561 rows x 5 columns]]"
      ]
     },
     "execution_count": 17,
     "metadata": {},
     "output_type": "execute_result"
    }
   ],
   "source": [
    "dfs = pd.read_html(url, 'Metcalf Bank', index_col=0, flavor=['lxml'])\n",
    "dfs"
   ]
  },
  {
   "cell_type": "code",
   "execution_count": 18,
   "metadata": {},
   "outputs": [
    {
     "data": {
      "text/plain": [
       "[                                            City  ST   CERT  \\\n",
       " Bank Name                                                     \n",
       " The First State Bank               Barboursville  WV  14361   \n",
       " Ericson State Bank                       Ericson  NE  18265   \n",
       " City National Bank of New Jersey          Newark  NJ  21111   \n",
       " Resolute Bank                             Maumee  OH  58317   \n",
       " Louisa Community Bank                     Louisa  KY  58112   \n",
       " ...                                          ...  ..    ...   \n",
       " Superior Bank, FSB                      Hinsdale  IL  32646   \n",
       " Malta National Bank                        Malta  OH   6629   \n",
       " First Alliance Bank & Trust Co.       Manchester  NH  34264   \n",
       " National State Bank of Metropolis     Metropolis  IL   3815   \n",
       " Bank of Honolulu                        Honolulu  HI  21029   \n",
       " \n",
       "                                                  Acquiring Institution  \\\n",
       " Bank Name                                                                \n",
       " The First State Bank                                    MVB Bank, Inc.   \n",
       " Ericson State Bank                          Farmers and Merchants Bank   \n",
       " City National Bank of New Jersey                       Industrial Bank   \n",
       " Resolute Bank                                       Buckeye State Bank   \n",
       " Louisa Community Bank                Kentucky Farmers Bank Corporation   \n",
       " ...                                                                ...   \n",
       " Superior Bank, FSB                               Superior Federal, FSB   \n",
       " Malta National Bank                                  North Valley Bank   \n",
       " First Alliance Bank & Trust Co.    Southern New Hampshire Bank & Trust   \n",
       " National State Bank of Metropolis              Banterra Bank of Marion   \n",
       " Bank of Honolulu                                    Bank of the Orient   \n",
       " \n",
       "                                         Closing Date  \n",
       " Bank Name                                             \n",
       " The First State Bank                   April 3, 2020  \n",
       " Ericson State Bank                 February 14, 2020  \n",
       " City National Bank of New Jersey    November 1, 2019  \n",
       " Resolute Bank                       October 25, 2019  \n",
       " Louisa Community Bank               October 25, 2019  \n",
       " ...                                              ...  \n",
       " Superior Bank, FSB                     July 27, 2001  \n",
       " Malta National Bank                      May 3, 2001  \n",
       " First Alliance Bank & Trust Co.     February 2, 2001  \n",
       " National State Bank of Metropolis  December 14, 2000  \n",
       " Bank of Honolulu                    October 13, 2000  \n",
       " \n",
       " [561 rows x 5 columns]]"
      ]
     },
     "execution_count": 18,
     "metadata": {},
     "output_type": "execute_result"
    }
   ],
   "source": [
    "dfs = pd.read_html(url, 'Metcalf Bank', index_col=0, flavor='lxml')\n",
    "dfs"
   ]
  },
  {
   "cell_type": "code",
   "execution_count": 19,
   "metadata": {},
   "outputs": [
    {
     "data": {
      "text/plain": [
       "[                                            City  ST   CERT  \\\n",
       " Bank Name                                                     \n",
       " The First State Bank               Barboursville  WV  14361   \n",
       " Ericson State Bank                       Ericson  NE  18265   \n",
       " City National Bank of New Jersey          Newark  NJ  21111   \n",
       " Resolute Bank                             Maumee  OH  58317   \n",
       " Louisa Community Bank                     Louisa  KY  58112   \n",
       " ...                                          ...  ..    ...   \n",
       " Superior Bank, FSB                      Hinsdale  IL  32646   \n",
       " Malta National Bank                        Malta  OH   6629   \n",
       " First Alliance Bank & Trust Co.       Manchester  NH  34264   \n",
       " National State Bank of Metropolis     Metropolis  IL   3815   \n",
       " Bank of Honolulu                        Honolulu  HI  21029   \n",
       " \n",
       "                                                  Acquiring Institution  \\\n",
       " Bank Name                                                                \n",
       " The First State Bank                                    MVB Bank, Inc.   \n",
       " Ericson State Bank                          Farmers and Merchants Bank   \n",
       " City National Bank of New Jersey                       Industrial Bank   \n",
       " Resolute Bank                                       Buckeye State Bank   \n",
       " Louisa Community Bank                Kentucky Farmers Bank Corporation   \n",
       " ...                                                                ...   \n",
       " Superior Bank, FSB                               Superior Federal, FSB   \n",
       " Malta National Bank                                  North Valley Bank   \n",
       " First Alliance Bank & Trust Co.    Southern New Hampshire Bank & Trust   \n",
       " National State Bank of Metropolis              Banterra Bank of Marion   \n",
       " Bank of Honolulu                                    Bank of the Orient   \n",
       " \n",
       "                                         Closing Date  \n",
       " Bank Name                                             \n",
       " The First State Bank                   April 3, 2020  \n",
       " Ericson State Bank                 February 14, 2020  \n",
       " City National Bank of New Jersey    November 1, 2019  \n",
       " Resolute Bank                       October 25, 2019  \n",
       " Louisa Community Bank               October 25, 2019  \n",
       " ...                                              ...  \n",
       " Superior Bank, FSB                     July 27, 2001  \n",
       " Malta National Bank                      May 3, 2001  \n",
       " First Alliance Bank & Trust Co.     February 2, 2001  \n",
       " National State Bank of Metropolis  December 14, 2000  \n",
       " Bank of Honolulu                    October 13, 2000  \n",
       " \n",
       " [561 rows x 5 columns]]"
      ]
     },
     "execution_count": 19,
     "metadata": {},
     "output_type": "execute_result"
    }
   ],
   "source": [
    "dfs = pd.read_html(url, 'Metcalf Bank', index_col=0, flavor=['lxml', 'bs4'])\n",
    "dfs"
   ]
  },
  {
   "cell_type": "code",
   "execution_count": 20,
   "metadata": {},
   "outputs": [],
   "source": [
    "df = pd.DataFrame(np.random.randn(2, 2))"
   ]
  },
  {
   "cell_type": "code",
   "execution_count": 21,
   "metadata": {},
   "outputs": [
    {
     "data": {
      "text/html": [
       "<div>\n",
       "<style scoped>\n",
       "    .dataframe tbody tr th:only-of-type {\n",
       "        vertical-align: middle;\n",
       "    }\n",
       "\n",
       "    .dataframe tbody tr th {\n",
       "        vertical-align: top;\n",
       "    }\n",
       "\n",
       "    .dataframe thead th {\n",
       "        text-align: right;\n",
       "    }\n",
       "</style>\n",
       "<table border=\"1\" class=\"dataframe\">\n",
       "  <thead>\n",
       "    <tr style=\"text-align: right;\">\n",
       "      <th></th>\n",
       "      <th>0</th>\n",
       "      <th>1</th>\n",
       "    </tr>\n",
       "  </thead>\n",
       "  <tbody>\n",
       "    <tr>\n",
       "      <th>0</th>\n",
       "      <td>0.205553</td>\n",
       "      <td>0.110278</td>\n",
       "    </tr>\n",
       "    <tr>\n",
       "      <th>1</th>\n",
       "      <td>0.858316</td>\n",
       "      <td>-1.410387</td>\n",
       "    </tr>\n",
       "  </tbody>\n",
       "</table>\n",
       "</div>"
      ],
      "text/plain": [
       "          0         1\n",
       "0  0.205553  0.110278\n",
       "1  0.858316 -1.410387"
      ]
     },
     "execution_count": 21,
     "metadata": {},
     "output_type": "execute_result"
    }
   ],
   "source": [
    "df"
   ]
  },
  {
   "cell_type": "code",
   "execution_count": 22,
   "metadata": {},
   "outputs": [
    {
     "name": "stdout",
     "output_type": "stream",
     "text": [
      "<table border=\"1\" class=\"dataframe\">\n",
      "  <thead>\n",
      "    <tr style=\"text-align: right;\">\n",
      "      <th></th>\n",
      "      <th>0</th>\n",
      "      <th>1</th>\n",
      "    </tr>\n",
      "  </thead>\n",
      "  <tbody>\n",
      "    <tr>\n",
      "      <th>0</th>\n",
      "      <td>0.205553</td>\n",
      "      <td>0.110278</td>\n",
      "    </tr>\n",
      "    <tr>\n",
      "      <th>1</th>\n",
      "      <td>0.858316</td>\n",
      "      <td>-1.410387</td>\n",
      "    </tr>\n",
      "  </tbody>\n",
      "</table>\n"
     ]
    }
   ],
   "source": [
    "print(df.to_html()) # raw html"
   ]
  },
  {
   "cell_type": "code",
   "execution_count": 23,
   "metadata": {},
   "outputs": [
    {
     "name": "stdout",
     "output_type": "stream",
     "text": [
      "<table border=\"1\" class=\"dataframe\">\n",
      "  <thead>\n",
      "    <tr style=\"text-align: right;\">\n",
      "      <th></th>\n",
      "      <th>0</th>\n",
      "    </tr>\n",
      "  </thead>\n",
      "  <tbody>\n",
      "    <tr>\n",
      "      <th>0</th>\n",
      "      <td>0.205553</td>\n",
      "    </tr>\n",
      "    <tr>\n",
      "      <th>1</th>\n",
      "      <td>0.858316</td>\n",
      "    </tr>\n",
      "  </tbody>\n",
      "</table>\n"
     ]
    }
   ],
   "source": [
    "print(df.to_html(columns=[0]))"
   ]
  },
  {
   "cell_type": "code",
   "execution_count": 24,
   "metadata": {},
   "outputs": [
    {
     "name": "stdout",
     "output_type": "stream",
     "text": [
      "<table border=\"1\" class=\"dataframe\">\n",
      "  <thead>\n",
      "    <tr style=\"text-align: right;\">\n",
      "      <th></th>\n",
      "      <th>0</th>\n",
      "      <th>1</th>\n",
      "    </tr>\n",
      "  </thead>\n",
      "  <tbody>\n",
      "    <tr>\n",
      "      <th>0</th>\n",
      "      <td>0.2055533727</td>\n",
      "      <td>0.1102782502</td>\n",
      "    </tr>\n",
      "    <tr>\n",
      "      <th>1</th>\n",
      "      <td>0.8583163905</td>\n",
      "      <td>-1.4103874932</td>\n",
      "    </tr>\n",
      "  </tbody>\n",
      "</table>\n"
     ]
    }
   ],
   "source": [
    "print(df.to_html(float_format='{0:.10f}'.format))"
   ]
  },
  {
   "cell_type": "code",
   "execution_count": 25,
   "metadata": {},
   "outputs": [
    {
     "name": "stdout",
     "output_type": "stream",
     "text": [
      "<table border=\"1\" class=\"dataframe\">\n",
      "  <thead>\n",
      "    <tr style=\"text-align: right;\">\n",
      "      <th></th>\n",
      "      <th>0</th>\n",
      "      <th>1</th>\n",
      "    </tr>\n",
      "  </thead>\n",
      "  <tbody>\n",
      "    <tr>\n",
      "      <td>0</td>\n",
      "      <td>0.205553</td>\n",
      "      <td>0.110278</td>\n",
      "    </tr>\n",
      "    <tr>\n",
      "      <td>1</td>\n",
      "      <td>0.858316</td>\n",
      "      <td>-1.410387</td>\n",
      "    </tr>\n",
      "  </tbody>\n",
      "</table>\n"
     ]
    }
   ],
   "source": [
    "print(df.to_html(bold_rows=False))"
   ]
  },
  {
   "cell_type": "code",
   "execution_count": 26,
   "metadata": {},
   "outputs": [
    {
     "name": "stdout",
     "output_type": "stream",
     "text": [
      "<table border=\"1\" class=\"dataframe awesome_table_class even_more_awesome_class\">\n",
      "  <thead>\n",
      "    <tr style=\"text-align: right;\">\n",
      "      <th></th>\n",
      "      <th>0</th>\n",
      "      <th>1</th>\n",
      "    </tr>\n",
      "  </thead>\n",
      "  <tbody>\n",
      "    <tr>\n",
      "      <th>0</th>\n",
      "      <td>0.205553</td>\n",
      "      <td>0.110278</td>\n",
      "    </tr>\n",
      "    <tr>\n",
      "      <th>1</th>\n",
      "      <td>0.858316</td>\n",
      "      <td>-1.410387</td>\n",
      "    </tr>\n",
      "  </tbody>\n",
      "</table>\n"
     ]
    }
   ],
   "source": [
    "print(df.to_html(classes=['awesome_table_class', 'even_more_awesome_class']))"
   ]
  },
  {
   "cell_type": "code",
   "execution_count": 27,
   "metadata": {},
   "outputs": [],
   "source": [
    "url_df = pd.DataFrame({\n",
    "    'name': ['Python', 'Pandas'],\n",
    "    'url': ['https://www.python.org/', 'https://pandas.pydata.org']})"
   ]
  },
  {
   "cell_type": "code",
   "execution_count": 28,
   "metadata": {},
   "outputs": [
    {
     "name": "stdout",
     "output_type": "stream",
     "text": [
      "<table border=\"1\" class=\"dataframe\">\n",
      "  <thead>\n",
      "    <tr style=\"text-align: right;\">\n",
      "      <th></th>\n",
      "      <th>name</th>\n",
      "      <th>url</th>\n",
      "    </tr>\n",
      "  </thead>\n",
      "  <tbody>\n",
      "    <tr>\n",
      "      <th>0</th>\n",
      "      <td>Python</td>\n",
      "      <td><a href=\"https://www.python.org/\" target=\"_blank\">https://www.python.org/</a></td>\n",
      "    </tr>\n",
      "    <tr>\n",
      "      <th>1</th>\n",
      "      <td>Pandas</td>\n",
      "      <td><a href=\"https://pandas.pydata.org\" target=\"_blank\">https://pandas.pydata.org</a></td>\n",
      "    </tr>\n",
      "  </tbody>\n",
      "</table>\n"
     ]
    }
   ],
   "source": [
    "print(url_df.to_html(render_links=True))"
   ]
  },
  {
   "cell_type": "code",
   "execution_count": 29,
   "metadata": {},
   "outputs": [],
   "source": [
    "df = pd.DataFrame({'a': list('&<>'), 'b': np.random.randn(3)})"
   ]
  },
  {
   "cell_type": "code",
   "execution_count": 30,
   "metadata": {},
   "outputs": [
    {
     "name": "stdout",
     "output_type": "stream",
     "text": [
      "<table border=\"1\" class=\"dataframe\">\n",
      "  <thead>\n",
      "    <tr style=\"text-align: right;\">\n",
      "      <th></th>\n",
      "      <th>a</th>\n",
      "      <th>b</th>\n",
      "    </tr>\n",
      "  </thead>\n",
      "  <tbody>\n",
      "    <tr>\n",
      "      <th>0</th>\n",
      "      <td>&amp;</td>\n",
      "      <td>0.527012</td>\n",
      "    </tr>\n",
      "    <tr>\n",
      "      <th>1</th>\n",
      "      <td>&lt;</td>\n",
      "      <td>-1.346549</td>\n",
      "    </tr>\n",
      "    <tr>\n",
      "      <th>2</th>\n",
      "      <td>&gt;</td>\n",
      "      <td>-0.102347</td>\n",
      "    </tr>\n",
      "  </tbody>\n",
      "</table>\n"
     ]
    }
   ],
   "source": [
    "print(df.to_html())"
   ]
  },
  {
   "cell_type": "code",
   "execution_count": 31,
   "metadata": {},
   "outputs": [
    {
     "name": "stdout",
     "output_type": "stream",
     "text": [
      "<table border=\"1\" class=\"dataframe\">\n",
      "  <thead>\n",
      "    <tr style=\"text-align: right;\">\n",
      "      <th></th>\n",
      "      <th>a</th>\n",
      "      <th>b</th>\n",
      "    </tr>\n",
      "  </thead>\n",
      "  <tbody>\n",
      "    <tr>\n",
      "      <th>0</th>\n",
      "      <td>&</td>\n",
      "      <td>0.527012</td>\n",
      "    </tr>\n",
      "    <tr>\n",
      "      <th>1</th>\n",
      "      <td><</td>\n",
      "      <td>-1.346549</td>\n",
      "    </tr>\n",
      "    <tr>\n",
      "      <th>2</th>\n",
      "      <td>></td>\n",
      "      <td>-0.102347</td>\n",
      "    </tr>\n",
      "  </tbody>\n",
      "</table>\n"
     ]
    }
   ],
   "source": [
    "print(df.to_html(escape=False))"
   ]
  }
 ],
 "metadata": {
  "kernelspec": {
   "display_name": "Python 3",
   "language": "python",
   "name": "python3"
  },
  "language_info": {
   "codemirror_mode": {
    "name": "ipython",
    "version": 3
   },
   "file_extension": ".py",
   "mimetype": "text/x-python",
   "name": "python",
   "nbconvert_exporter": "python",
   "pygments_lexer": "ipython3",
   "version": "3.8.1"
  }
 },
 "nbformat": 4,
 "nbformat_minor": 4
}
